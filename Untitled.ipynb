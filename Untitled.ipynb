{
 "cells": [
  {
   "cell_type": "code",
   "execution_count": 1,
   "metadata": {},
   "outputs": [
    {
     "name": "stderr",
     "output_type": "stream",
     "text": [
      "/home/marcos/anaconda3/lib/python3.7/site-packages/fuzzywuzzy/fuzz.py:11: UserWarning: Using slow pure-python SequenceMatcher. Install python-Levenshtein to remove this warning\n",
      "  warnings.warn('Using slow pure-python SequenceMatcher. Install python-Levenshtein to remove this warning')\n"
     ]
    }
   ],
   "source": [
    "import pandas as pd\n",
    "from fuzzywuzzy import fuzz\n",
    "from fuzzywuzzy import process"
   ]
  },
  {
   "cell_type": "code",
   "execution_count": 2,
   "metadata": {},
   "outputs": [],
   "source": [
    "elencos = pd.ExcelFile('elencos.xlsx')\n",
    "times = elencos.sheet_names\n",
    "times.remove('LISTÃO')\n",
    "stats = pd.ExcelFile('stats.xlsx')"
   ]
  },
  {
   "cell_type": "code",
   "execution_count": 3,
   "metadata": {},
   "outputs": [],
   "source": [
    "jogadores = []\n",
    "\n",
    "\n",
    "#ler jogadores da planilha no excel\n",
    "for time in times:\n",
    "    elenco = elencos.parse(sheet_name = time, skiprows = [1], parse_cols = ['B'])\n",
    "    elenco = elenco['Unnamed: 1']\n",
    "    for index in range (0,14):\n",
    "        #precisa fazer desse jeito, pq o Terminals tem uma linha em branco no meio dos jogadores\n",
    "        if (pd.isnull(elenco[index])):\n",
    "            #aqui basicamente checa se não é o Terminals rs\n",
    "            if (index>=5):\n",
    "                break\n",
    "            continue\n",
    "        cell = [elenco[index], time]\n",
    "        jogadores.append(cell)\n",
    "df_elencos = pd.DataFrame(jogadores, columns = [\"PLAYER\", \"TIME\"])        "
   ]
  },
  {
   "cell_type": "code",
   "execution_count": 4,
   "metadata": {},
   "outputs": [],
   "source": [
    "#ler a planilha de stats do Hashtag Basketball\n",
    "df_stats = stats.parse()"
   ]
  },
  {
   "cell_type": "code",
   "execution_count": 5,
   "metadata": {},
   "outputs": [],
   "source": [
    "#Compara os nomes das duas planilhas. Se for igual \"o suficiente\" (eg. Terry Rozier III e Terry Rozier)\n",
    "#, deixa os dois iguais de fato\n",
    "for jogador in df_elencos['PLAYER']:\n",
    "    for jogador2 in df_stats['PLAYER']:\n",
    "        if (fuzz.ratio(jogador, jogador2) >= 70):\n",
    "            df_elencos['PLAYER']=df_elencos['PLAYER'].replace(jogador, jogador2)\n",
    "            break"
   ]
  },
  {
   "cell_type": "code",
   "execution_count": 6,
   "metadata": {},
   "outputs": [],
   "source": [
    "final = pd.merge(df_elencos, df_stats, how='left')\n",
    "null_data = final[final.isnull().any(axis=1)]"
   ]
  },
  {
   "cell_type": "code",
   "execution_count": 7,
   "metadata": {},
   "outputs": [],
   "source": [
    "team_stats = pd.DataFrame(columns = [\"TIME\", \"3PM\", \"PTS\", \"TREB\", \"AST\", \"STL\", \"BLK\", \"TO\"])\n",
    "team_stats['TIME'] = times\n",
    "team_stats = team_stats.set_index('TIME')\n",
    "for time in times:\n",
    "    for stat in team_stats:\n",
    "        #escolhe os sete melhores pontuadores de cada time para fazer as stats\n",
    "        melhores_sete = final.loc[final['TIME'] == time].sort_values('PTS', ascending=False).head(7)\n",
    "        #soma os stats desses 7 e coloca no dataset\n",
    "        team_stats.loc[time][stat] = melhores_sete[stat].sum()\n",
    "    \n"
   ]
  },
  {
   "cell_type": "code",
   "execution_count": 9,
   "metadata": {},
   "outputs": [],
   "source": [
    "melhores_sete = final.loc[final['TIME'] == 'Lampiões'].sort_values('PTS', ascending=False).head(7)"
   ]
  },
  {
   "cell_type": "code",
   "execution_count": 10,
   "metadata": {},
   "outputs": [
    {
     "data": {
      "text/html": [
       "<div>\n",
       "<style scoped>\n",
       "    .dataframe tbody tr th:only-of-type {\n",
       "        vertical-align: middle;\n",
       "    }\n",
       "\n",
       "    .dataframe tbody tr th {\n",
       "        vertical-align: top;\n",
       "    }\n",
       "\n",
       "    .dataframe thead th {\n",
       "        text-align: right;\n",
       "    }\n",
       "</style>\n",
       "<table border=\"1\" class=\"dataframe\">\n",
       "  <thead>\n",
       "    <tr style=\"text-align: right;\">\n",
       "      <th></th>\n",
       "      <th>PLAYER</th>\n",
       "      <th>TIME</th>\n",
       "      <th>POS</th>\n",
       "      <th>GP</th>\n",
       "      <th>MPG</th>\n",
       "      <th>3PM</th>\n",
       "      <th>PTS</th>\n",
       "      <th>TREB</th>\n",
       "      <th>AST</th>\n",
       "      <th>STL</th>\n",
       "      <th>BLK</th>\n",
       "      <th>TO</th>\n",
       "    </tr>\n",
       "  </thead>\n",
       "  <tbody>\n",
       "    <tr>\n",
       "      <th>82</th>\n",
       "      <td>Russell Westbrook</td>\n",
       "      <td>Lampiões</td>\n",
       "      <td>PG</td>\n",
       "      <td>74</td>\n",
       "      <td>36.0</td>\n",
       "      <td>1.7</td>\n",
       "      <td>21.2</td>\n",
       "      <td>8.4</td>\n",
       "      <td>8.2</td>\n",
       "      <td>1.9</td>\n",
       "      <td>0.5</td>\n",
       "      <td>4.1</td>\n",
       "    </tr>\n",
       "    <tr>\n",
       "      <th>90</th>\n",
       "      <td>Rudy Gobert</td>\n",
       "      <td>Lampiões</td>\n",
       "      <td>C</td>\n",
       "      <td>77</td>\n",
       "      <td>32.0</td>\n",
       "      <td>0.0</td>\n",
       "      <td>16.9</td>\n",
       "      <td>13.5</td>\n",
       "      <td>2.1</td>\n",
       "      <td>0.8</td>\n",
       "      <td>2.4</td>\n",
       "      <td>1.6</td>\n",
       "    </tr>\n",
       "    <tr>\n",
       "      <th>89</th>\n",
       "      <td>Draymond Green</td>\n",
       "      <td>Lampiões</td>\n",
       "      <td>PF</td>\n",
       "      <td>74</td>\n",
       "      <td>33.0</td>\n",
       "      <td>1.0</td>\n",
       "      <td>10.3</td>\n",
       "      <td>7.7</td>\n",
       "      <td>7.6</td>\n",
       "      <td>1.5</td>\n",
       "      <td>1.2</td>\n",
       "      <td>2.7</td>\n",
       "    </tr>\n",
       "    <tr>\n",
       "      <th>85</th>\n",
       "      <td>Marcus Smart</td>\n",
       "      <td>Lampiões</td>\n",
       "      <td>PG</td>\n",
       "      <td>76</td>\n",
       "      <td>30.0</td>\n",
       "      <td>1.8</td>\n",
       "      <td>10.2</td>\n",
       "      <td>3.3</td>\n",
       "      <td>4.6</td>\n",
       "      <td>2.0</td>\n",
       "      <td>0.5</td>\n",
       "      <td>1.6</td>\n",
       "    </tr>\n",
       "    <tr>\n",
       "      <th>83</th>\n",
       "      <td>Kris Dunn</td>\n",
       "      <td>Lampiões</td>\n",
       "      <td>PG</td>\n",
       "      <td>60</td>\n",
       "      <td>22.0</td>\n",
       "      <td>0.5</td>\n",
       "      <td>8.7</td>\n",
       "      <td>3.1</td>\n",
       "      <td>4.6</td>\n",
       "      <td>1.1</td>\n",
       "      <td>0.4</td>\n",
       "      <td>1.7</td>\n",
       "    </tr>\n",
       "    <tr>\n",
       "      <th>86</th>\n",
       "      <td>Kyle Anderson</td>\n",
       "      <td>Lampiões</td>\n",
       "      <td>SF</td>\n",
       "      <td>70</td>\n",
       "      <td>28.0</td>\n",
       "      <td>0.2</td>\n",
       "      <td>8.0</td>\n",
       "      <td>5.7</td>\n",
       "      <td>3.0</td>\n",
       "      <td>1.2</td>\n",
       "      <td>0.9</td>\n",
       "      <td>1.2</td>\n",
       "    </tr>\n",
       "    <tr>\n",
       "      <th>84</th>\n",
       "      <td>Rajon Rondo</td>\n",
       "      <td>Lampiões</td>\n",
       "      <td>PG</td>\n",
       "      <td>66</td>\n",
       "      <td>22.0</td>\n",
       "      <td>0.9</td>\n",
       "      <td>7.2</td>\n",
       "      <td>4.0</td>\n",
       "      <td>6.2</td>\n",
       "      <td>0.9</td>\n",
       "      <td>0.2</td>\n",
       "      <td>2.1</td>\n",
       "    </tr>\n",
       "  </tbody>\n",
       "</table>\n",
       "</div>"
      ],
      "text/plain": [
       "                PLAYER      TIME POS  GP   MPG  3PM   PTS  TREB  AST  STL  \\\n",
       "82  Russell Westbrook   Lampiões  PG  74  36.0  1.7  21.2   8.4  8.2  1.9   \n",
       "90        Rudy Gobert   Lampiões   C  77  32.0  0.0  16.9  13.5  2.1  0.8   \n",
       "89     Draymond Green   Lampiões  PF  74  33.0  1.0  10.3   7.7  7.6  1.5   \n",
       "85       Marcus Smart   Lampiões  PG  76  30.0  1.8  10.2   3.3  4.6  2.0   \n",
       "83          Kris Dunn   Lampiões  PG  60  22.0  0.5   8.7   3.1  4.6  1.1   \n",
       "86      Kyle Anderson   Lampiões  SF  70  28.0  0.2   8.0   5.7  3.0  1.2   \n",
       "84        Rajon Rondo   Lampiões  PG  66  22.0  0.9   7.2   4.0  6.2  0.9   \n",
       "\n",
       "    BLK   TO  \n",
       "82  0.5  4.1  \n",
       "90  2.4  1.6  \n",
       "89  1.2  2.7  \n",
       "85  0.5  1.6  \n",
       "83  0.4  1.7  \n",
       "86  0.9  1.2  \n",
       "84  0.2  2.1  "
      ]
     },
     "execution_count": 10,
     "metadata": {},
     "output_type": "execute_result"
    }
   ],
   "source": []
  },
  {
   "cell_type": "code",
   "execution_count": null,
   "metadata": {},
   "outputs": [],
   "source": []
  }
 ],
 "metadata": {
  "kernelspec": {
   "display_name": "Python 3",
   "language": "python",
   "name": "python3"
  },
  "language_info": {
   "codemirror_mode": {
    "name": "ipython",
    "version": 3
   },
   "file_extension": ".py",
   "mimetype": "text/x-python",
   "name": "python",
   "nbconvert_exporter": "python",
   "pygments_lexer": "ipython3",
   "version": "3.7.3"
  }
 },
 "nbformat": 4,
 "nbformat_minor": 2
}
